{
 "cells": [
  {
   "cell_type": "markdown",
   "id": "901148d9",
   "metadata": {},
   "source": [
    "Validar un número de teléfono.\n",
    "\n",
    "Descripción: Verificar si una cadena representa un número de teléfono válido en el formato (XXX) XXX-XXXX.\n",
    "\n",
    "Probad para cada uno de los teléfonos que tenemos en la siguiente lista:\n",
    "\n",
    "telefonos = [\"(123) 456-7890\", \"178 1890-733\", \"(555) 238-1987\", \"(123) 4560-7890\", \"(ABC) 098-1111\"]"
   ]
  },
  {
   "cell_type": "code",
   "execution_count": 1,
   "id": "c2f85e23",
   "metadata": {},
   "outputs": [],
   "source": [
    "telefonos = [\"(123) 456-7890\", \"178 1890-733\", \"(555) 238-1987\", \"(123) 4560-7890\", \"(ABC) 098-1111\"]"
   ]
  },
  {
   "cell_type": "code",
   "execution_count": 2,
   "id": "5b51ad3f",
   "metadata": {},
   "outputs": [],
   "source": [
    "import re"
   ]
  },
  {
   "cell_type": "code",
   "execution_count": 12,
   "id": "0e9d548f",
   "metadata": {},
   "outputs": [],
   "source": [
    "patron = r\"\\(\\d{3}\\) \\d{3}-\\d{4}\""
   ]
  },
  {
   "cell_type": "code",
   "execution_count": 68,
   "id": "23a92209",
   "metadata": {},
   "outputs": [
    {
     "name": "stdout",
     "output_type": "stream",
     "text": [
      "['(123) 456-7890', '(555) 238-1987']\n"
     ]
    }
   ],
   "source": [
    "numerosbuenos = []\n",
    "\n",
    "for texto in telefonos:\n",
    "    encontrados = re.findall(r\"\\(\\d{3}\\) \\d{3}-\\d{4}\", texto)\n",
    "    if encontrados:\n",
    "        numerosbuenos.extend(encontrados)  # Añade todos los encontrados\n",
    "\n",
    "print(numerosbuenos)"
   ]
  },
  {
   "cell_type": "code",
   "execution_count": 55,
   "id": "d43d923e",
   "metadata": {},
   "outputs": [
    {
     "name": "stdout",
     "output_type": "stream",
     "text": [
      "[]\n"
     ]
    }
   ],
   "source": [
    "print(numerosbuenos)"
   ]
  },
  {
   "cell_type": "code",
   "execution_count": 49,
   "id": "0d05051e",
   "metadata": {},
   "outputs": [
    {
     "name": "stdout",
     "output_type": "stream",
     "text": [
      "['(555) 238-1987']\n"
     ]
    }
   ],
   "source": [
    "\n",
    "e1= \"(555) 238-1987\"\n",
    "e2='178 1890-733'\n",
    "\n",
    "print(re.findall(r\"\\(\\d{3}\\) \\d{3}-\\d{4}\",e1))"
   ]
  },
  {
   "cell_type": "markdown",
   "id": "dea13a84",
   "metadata": {},
   "source": [
    "\n",
    "Buscar todas las direcciones de correo electrónico en un texto.\n",
    "\n",
    "Descripción: Encontrar todas las direcciones de correo electrónico presentes en una cadena de texto.\n",
    "\n",
    "Probad con el siguiente string:\n",
    "\n",
    "\n",
    "texto = \"Mi correo es user@example.com. Contacta conmigo en john.doe@email.com\""
   ]
  },
  {
   "cell_type": "code",
   "execution_count": 69,
   "id": "69131474",
   "metadata": {},
   "outputs": [
    {
     "data": {
      "text/plain": [
       "['user@example.com.', 'john.doe@email.com']"
      ]
     },
     "execution_count": 69,
     "metadata": {},
     "output_type": "execute_result"
    }
   ],
   "source": [
    "texto = \"Mi correo es user@example.com. Contacta conmigo en john.doe@email.com\"\n",
    "patron = r\"[a-zA-Z0-9_.+-]+@[a-zA-Z0-9-]+\\.[a-zA-Z0-9-.]+\"\n",
    "\n",
    "re.findall(patron,texto)\n",
    "\n"
   ]
  },
  {
   "cell_type": "markdown",
   "id": "950b7939",
   "metadata": {},
   "source": [
    "\n",
    "Validar un código postal.\n",
    "\n",
    "Descripción: Verificar si una cadena representa un código postal válido de 5 dígitos.\n",
    "\n",
    "Probad para cada uno de los códigos postales que tenemos en la siguiente lista:\n",
    "\n",
    "\n",
    "codigos_postales = [\"12345\", \"190037\", \"78409\", \"986449\", \"19305\"]"
   ]
  }
 ],
 "metadata": {
  "kernelspec": {
   "display_name": "base",
   "language": "python",
   "name": "python3"
  },
  "language_info": {
   "codemirror_mode": {
    "name": "ipython",
    "version": 3
   },
   "file_extension": ".py",
   "mimetype": "text/x-python",
   "name": "python",
   "nbconvert_exporter": "python",
   "pygments_lexer": "ipython3",
   "version": "3.12.7"
  }
 },
 "nbformat": 4,
 "nbformat_minor": 5
}
