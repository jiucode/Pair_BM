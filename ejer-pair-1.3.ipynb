{
 "cells": [
  {
   "cell_type": "markdown",
   "id": "3b0686d8",
   "metadata": {},
   "source": [
    "Diccionarios sets"
   ]
  },
  {
   "cell_type": "code",
   "execution_count": 2,
   "id": "a6a5e160",
   "metadata": {},
   "outputs": [],
   "source": [
    "diccionario = {}"
   ]
  },
  {
   "cell_type": "code",
   "execution_count": 3,
   "id": "ea2018e1",
   "metadata": {},
   "outputs": [
    {
     "data": {
      "text/plain": [
       "'margarita'"
      ]
     },
     "execution_count": 3,
     "metadata": {},
     "output_type": "execute_result"
    }
   ],
   "source": [
    "dicc1 = {'flores' : 'margarita', 'planta' : 'enredadera', 'arbol' : 'almendro', 'interior' : 'orquidea', 'exterior' : 'cactus'}\n",
    "\n",
    "dicc1[input ('Escoge un tipo de planta')]\n",
    "\n"
   ]
  },
  {
   "cell_type": "code",
   "execution_count": 4,
   "id": "2ae2c0a9",
   "metadata": {},
   "outputs": [
    {
     "name": "stdout",
     "output_type": "stream",
     "text": [
      "{'flores': 'margarita', 'planta': 'enredadera', 'arbol': 'almendro', 'interior': 'orquidea', 'exterior': 'cactus', 'aromaticas': 'tomillo'}\n"
     ]
    }
   ],
   "source": [
    "nueva_planta ={'aromaticas' : 'tomillo'}\n",
    "dicc1.update(nueva_planta)\n",
    "print(dicc1)"
   ]
  },
  {
   "cell_type": "code",
   "execution_count": 5,
   "id": "5134d210",
   "metadata": {},
   "outputs": [
    {
     "name": "stdout",
     "output_type": "stream",
     "text": [
      "{'flores': 'margarita', 'planta': 'enredadera', 'arbol': 'almendro', 'interior': 'orquidea', 'exterior': 'cactus', 'aromaticas': 'albahaca'}\n"
     ]
    }
   ],
   "source": [
    "dicc1['aromaticas'] = 'albahaca'\n",
    "print(dicc1)"
   ]
  },
  {
   "cell_type": "code",
   "execution_count": 6,
   "id": "f4577f5a",
   "metadata": {},
   "outputs": [
    {
     "name": "stdout",
     "output_type": "stream",
     "text": [
      "{'flores': 'margarita', 'planta': 'enredadera', 'arbol': 'almendro', 'interior': 'orquidea', 'exterior': 'cactus'}\n"
     ]
    }
   ],
   "source": [
    "planta = input('Escoge un tipo de planta a eliminar')\n",
    "dicc1.pop(planta)\n",
    "print(dicc1)\n"
   ]
  },
  {
   "cell_type": "code",
   "execution_count": 7,
   "id": "b0fc36b4",
   "metadata": {},
   "outputs": [
    {
     "name": "stdout",
     "output_type": "stream",
     "text": [
      "Está en el diccionario: None\n"
     ]
    }
   ],
   "source": [
    "buscar = input()\n",
    "\n",
    "print(\"Está en el diccionario:\", dicc1.get(buscar))"
   ]
  },
  {
   "cell_type": "code",
   "execution_count": 8,
   "id": "1a646144",
   "metadata": {},
   "outputs": [
    {
     "name": "stdout",
     "output_type": "stream",
     "text": [
      "['flores', 'planta', 'arbol', 'interior', 'exterior']\n",
      "dict_values(['margarita', 'enredadera', 'almendro', 'orquidea', 'cactus'])\n"
     ]
    }
   ],
   "source": [
    "print(list(dicc1))\n",
    "lista1 = dicc1.values()\n",
    "print(lista1)"
   ]
  },
  {
   "cell_type": "code",
   "execution_count": 9,
   "id": "e10e9ec9",
   "metadata": {},
   "outputs": [
    {
     "name": "stdout",
     "output_type": "stream",
     "text": [
      "añadir más plantas: cerecito\n",
      "{'flores': 'margarita', 'planta': 'enredadera', 'arbol': 'almendro', 'interior': 'orquidea', 'exterior': 'cactus', 'arbolito': 'cerecito'}\n",
      "{'flores': 'margarita', 'planta': 'enredadera', 'arbol': 'almendro', 'interior': 'orquidea'}\n"
     ]
    }
   ],
   "source": [
    "print(\"añadir más plantas:\", dicc1.setdefault('arbolito', 'cerecito'))\n",
    "print(dicc1)\n",
    "\n",
    "dicc1.pop('arbolito')\n",
    "dicc1.popitem()\n",
    "print(dicc1)"
   ]
  },
  {
   "cell_type": "markdown",
   "id": "01229f0a",
   "metadata": {},
   "source": [
    "Sets "
   ]
  },
  {
   "cell_type": "code",
   "execution_count": 10,
   "id": "51bbfebf",
   "metadata": {},
   "outputs": [
    {
     "name": "stdout",
     "output_type": "stream",
     "text": [
      "<class 'dict'>\n",
      "<class 'set'>\n"
     ]
    }
   ],
   "source": [
    "set1 = {}\n",
    "set2 = {'Irene Sola', 'Cervantes', 'Becquer', 'Almudena Grandes'}\n",
    "print(type(set1))\n",
    "print(type(set2))"
   ]
  },
  {
   "cell_type": "code",
   "execution_count": 11,
   "id": "2c8a1547",
   "metadata": {},
   "outputs": [
    {
     "name": "stdout",
     "output_type": "stream",
     "text": [
      "{'Margaret Atwood', 'Almudena Grandes', 'Cervantes', 'Irene Sola', 'Becquer'}\n"
     ]
    }
   ],
   "source": [
    "nueva_escritora = 'Margaret Atwood'\n",
    "set2.add(nueva_escritora)\n",
    "print(set2)\n"
   ]
  },
  {
   "cell_type": "code",
   "execution_count": 12,
   "id": "ffb1c83f",
   "metadata": {},
   "outputs": [
    {
     "name": "stdout",
     "output_type": "stream",
     "text": [
      "{'Cervantes', 'Irene Sola', 'Becquer', 'Margaret Atwood', 'Almudena Grandes'}\n"
     ]
    }
   ],
   "source": [
    "set3 = set2.copy()\n",
    "print(set3)"
   ]
  },
  {
   "cell_type": "code",
   "execution_count": 14,
   "id": "6af4eab1",
   "metadata": {},
   "outputs": [
    {
     "name": "stdout",
     "output_type": "stream",
     "text": [
      "{'Margaret Atwood', 'Almudena Grandes', 'Cervantes', 'Charlote Bronte', 'Irene Sola', 'Becquer', 'Jane Austen'}\n"
     ]
    }
   ],
   "source": [
    "mas_escritores = ['Jane Austen', 'Charlote Bronte']\n",
    "set3.update(mas_escritores)\n",
    "print(set2)"
   ]
  }
 ],
 "metadata": {
  "kernelspec": {
   "display_name": "base",
   "language": "python",
   "name": "python3"
  },
  "language_info": {
   "codemirror_mode": {
    "name": "ipython",
    "version": 3
   },
   "file_extension": ".py",
   "mimetype": "text/x-python",
   "name": "python",
   "nbconvert_exporter": "python",
   "pygments_lexer": "ipython3",
   "version": "3.12.7"
  }
 },
 "nbformat": 4,
 "nbformat_minor": 5
}
