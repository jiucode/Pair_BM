{
 "cells": [
  {
   "cell_type": "markdown",
   "id": "e7c51eb2",
   "metadata": {},
   "source": [
    "ejercicios pair"
   ]
  },
  {
   "cell_type": "code",
   "execution_count": 5,
   "id": "5c87f45c",
   "metadata": {},
   "outputs": [
    {
     "name": "stdout",
     "output_type": "stream",
     "text": [
      "False\n",
      "True\n",
      "False\n",
      "True\n"
     ]
    }
   ],
   "source": [
    "numero1 = 2\n",
    "numero2 = 35\n",
    "numero3 = 8\n",
    "\n",
    "print(numero1 > numero2)\n",
    "print(numero1 < numero2 > numero1)\n",
    "print(numero3 == numero2)\n",
    "print(numero2 != numero1)"
   ]
  },
  {
   "cell_type": "code",
   "execution_count": 1,
   "id": "75f0a55e",
   "metadata": {},
   "outputs": [
    {
     "name": "stdout",
     "output_type": "stream",
     "text": [
      "4.06\n",
      "0.74\n",
      "1.66\n",
      "0.7\n"
     ]
    }
   ],
   "source": [
    "altura1 = 1.66\n",
    "altura2 = 2.4\n",
    "print(altura1 + altura2)\n",
    "print(altura2 - altura1)\n",
    "print(altura1 % altura2)\n",
    "print(round(altura1 / altura2, 1))\n"
   ]
  },
  {
   "cell_type": "code",
   "execution_count": 20,
   "id": "5f1b65b6",
   "metadata": {},
   "outputs": [
    {
     "name": "stdout",
     "output_type": "stream",
     "text": [
      "petunia gonzalez\n"
     ]
    }
   ],
   "source": [
    "nombre = input()\n",
    "apellidos = input()\n",
    "\n",
    "print(nombre, apellidos)\n"
   ]
  },
  {
   "cell_type": "code",
   "execution_count": 22,
   "id": "b7f99d2e",
   "metadata": {},
   "outputs": [
    {
     "name": "stdout",
     "output_type": "stream",
     "text": [
      "PETUNIA GONZALEZ\n"
     ]
    }
   ],
   "source": [
    "print(nombre.upper(), apellidos.upper())"
   ]
  },
  {
   "cell_type": "code",
   "execution_count": 23,
   "id": "d2e51009",
   "metadata": {},
   "outputs": [
    {
     "name": "stdout",
     "output_type": "stream",
     "text": [
      "petunia gonzalez\n"
     ]
    }
   ],
   "source": [
    "print(nombre.lower(), apellidos.lower())"
   ]
  },
  {
   "cell_type": "code",
   "execution_count": 24,
   "id": "65421006",
   "metadata": {},
   "outputs": [
    {
     "name": "stdout",
     "output_type": "stream",
     "text": [
      "Petunia Gonzalez\n"
     ]
    }
   ],
   "source": [
    "print(nombre.title(), apellidos.title())"
   ]
  },
  {
   "cell_type": "code",
   "execution_count": 26,
   "id": "fc0373fa",
   "metadata": {},
   "outputs": [
    {
     "name": "stdout",
     "output_type": "stream",
     "text": [
      "Petunia gonzalez\n"
     ]
    }
   ],
   "source": [
    "print(nombre.capitalize(), apellidos)"
   ]
  },
  {
   "cell_type": "code",
   "execution_count": 27,
   "id": "fc9dc036",
   "metadata": {},
   "outputs": [
    {
     "name": "stdout",
     "output_type": "stream",
     "text": [
      "el nombre de tu gato\n"
     ]
    }
   ],
   "source": [
    "frase = input()\n",
    "print(frase)"
   ]
  },
  {
   "cell_type": "code",
   "execution_count": 29,
   "id": "2358316c",
   "metadata": {},
   "outputs": [
    {
     "name": "stdout",
     "output_type": "stream",
     "text": [
      "a\n"
     ]
    }
   ],
   "source": [
    "vocal = input()\n",
    "print(vocal)\n"
   ]
  }
 ],
 "metadata": {
  "kernelspec": {
   "display_name": "base",
   "language": "python",
   "name": "python3"
  },
  "language_info": {
   "codemirror_mode": {
    "name": "ipython",
    "version": 3
   },
   "file_extension": ".py",
   "mimetype": "text/x-python",
   "name": "python",
   "nbconvert_exporter": "python",
   "pygments_lexer": "ipython3",
   "version": "3.12.7"
  }
 },
 "nbformat": 4,
 "nbformat_minor": 5
}
