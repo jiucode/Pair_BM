{
 "cells": [
  {
   "cell_type": "markdown",
   "id": "32a7a132",
   "metadata": {},
   "source": [
    "1. Imprimir los números del 1 al 5 utilizando un bucle for\n",
    "\n",
    "Descripción: Utiliza un bucle for para imprimir los números del 1 al 5 (incluido) en orden ascendente."
   ]
  },
  {
   "cell_type": "code",
   "execution_count": 3,
   "id": "6704dafe",
   "metadata": {},
   "outputs": [
    {
     "name": "stdout",
     "output_type": "stream",
     "text": [
      "0\n",
      "1\n",
      "2\n",
      "3\n",
      "4\n",
      "5\n"
     ]
    }
   ],
   "source": [
    "numeros = range(0,6)\n",
    "for num in numeros:\n",
    "    print(num)\n"
   ]
  },
  {
   "cell_type": "markdown",
   "id": "ff62bb8e",
   "metadata": {},
   "source": [
    "2. Calcular la suma de los primeros 10 números naturales utilizando un bucle for\n",
    "\n",
    "Descripción: Utiliza un bucle for para calcular la suma de los primeros 10 números naturales (1 + 2 + 3 + ... + 10)."
   ]
  },
  {
   "cell_type": "code",
   "execution_count": 14,
   "id": "c5c6e3a5",
   "metadata": {},
   "outputs": [
    {
     "name": "stdout",
     "output_type": "stream",
     "text": [
      "1\n",
      "3\n",
      "6\n",
      "10\n",
      "15\n",
      "21\n",
      "28\n",
      "36\n",
      "45\n",
      "55\n"
     ]
    }
   ],
   "source": [
    "suma = 0\n",
    "\n",
    "for num in range(1, 11):\n",
    "    suma += num\n",
    "    print(suma)\n",
    "    "
   ]
  },
  {
   "cell_type": "markdown",
   "id": "45777d10",
   "metadata": {},
   "source": [
    "3. \n",
    "Calcular el producto de los elementos de una lista\n",
    "\n",
    "Descripción: Dada una lista de números, utiliza un bucle for para calcular el producto de todos los elementos."
   ]
  },
  {
   "cell_type": "code",
   "execution_count": 3,
   "id": "89206262",
   "metadata": {},
   "outputs": [
    {
     "name": "stdout",
     "output_type": "stream",
     "text": [
      "8448\n"
     ]
    }
   ],
   "source": [
    "producto = [22, 4, 2, 8, 6, 1,]\n",
    "resultado = 1 \n",
    "for num in producto:\n",
    "    resultado *= num  \n",
    "print(resultado)"
   ]
  },
  {
   "cell_type": "markdown",
   "id": "5680bd73",
   "metadata": {},
   "source": [
    "4. Imprimir los caracteres de una cadena de texto\n",
    "\n",
    "Descripción: Dada una cadena de texto, utiliza un bucle for para imprimir cada carácter en una línea separada."
   ]
  },
  {
   "cell_type": "code",
   "execution_count": 6,
   "id": "7d40f589",
   "metadata": {},
   "outputs": [
    {
     "name": "stdout",
     "output_type": "stream",
     "text": [
      "H\n",
      "o\n",
      "y\n",
      " \n",
      "e\n",
      "s\n",
      " \n",
      "l\n",
      "u\n",
      "n\n",
      "e\n",
      "s\n",
      " \n",
      "y\n",
      " \n",
      "c\n",
      "u\n",
      "e\n",
      "s\n",
      "t\n",
      "a\n",
      " \n",
      "m\n",
      "u\n",
      "c\n",
      "h\n",
      "o\n"
     ]
    }
   ],
   "source": [
    "cadena = 'Hoy es lunes y cuesta mucho'\n",
    "\n",
    "for caracter in cadena:\n",
    "    print(caracter)"
   ]
  },
  {
   "cell_type": "markdown",
   "id": "d17bfbe6",
   "metadata": {},
   "source": [
    "5. \n",
    "Imprimir los números pares del 1 al 100 utilizando un bucle for\n",
    "\n",
    "Descripción: Utiliza un bucle for para imprimir los números pares del 1 al 100 en orden ascendente."
   ]
  },
  {
   "cell_type": "code",
   "execution_count": 15,
   "id": "b540e41a",
   "metadata": {},
   "outputs": [
    {
     "name": "stdout",
     "output_type": "stream",
     "text": [
      "0\n",
      "2\n",
      "4\n",
      "6\n",
      "8\n",
      "10\n",
      "12\n",
      "14\n",
      "16\n",
      "18\n",
      "20\n",
      "22\n",
      "24\n",
      "26\n",
      "28\n",
      "30\n",
      "32\n",
      "34\n",
      "36\n",
      "38\n",
      "40\n",
      "42\n",
      "44\n",
      "46\n",
      "48\n",
      "50\n",
      "52\n",
      "54\n",
      "56\n",
      "58\n",
      "60\n",
      "62\n",
      "64\n",
      "66\n",
      "68\n",
      "70\n",
      "72\n",
      "74\n",
      "76\n",
      "78\n",
      "80\n",
      "82\n",
      "84\n",
      "86\n",
      "88\n",
      "90\n",
      "92\n",
      "94\n",
      "96\n",
      "98\n",
      "100\n",
      "[0, 2, 4, 6, 8, 10, 12, 14, 16, 18, 20, 22, 24, 26, 28, 30, 32, 34, 36, 38, 40, 42, 44, 46, 48, 50, 52, 54, 56, 58, 60, 62, 64, 66, 68, 70, 72, 74, 76, 78, 80, 82, 84, 86, 88, 90, 92, 94, 96, 98, 100]\n"
     ]
    }
   ],
   "source": [
    "numeros = []\n",
    "\n",
    "for num in (range(0,101,2)):\n",
    "    print(num)\n",
    "    numeros.append(num)\n",
    "print(numeros)"
   ]
  },
  {
   "cell_type": "markdown",
   "id": "d4ecb2c6",
   "metadata": {},
   "source": [
    "8. Juego de adivinar palabras utilizando un bucle for\n",
    "\n",
    "Descripción: Crea un juego en el que el jugador debe adivinar una palabra secreta. El jugador tiene un número limitado de intentos y se le proporcionan pistas después de cada intento. Utiliza un bucle for para controlar los intentos del jugador."
   ]
  },
  {
   "cell_type": "code",
   "execution_count": 5,
   "id": "87a402e1",
   "metadata": {},
   "outputs": [
    {
     "name": "stdout",
     "output_type": "stream",
     "text": [
      "Se pone en los pies\n",
      "empieza por z\n",
      "Se pone en los pies\n",
      "Acertaste\n"
     ]
    }
   ],
   "source": [
    "intentos = 3\n",
    "palabra_secreta = 'Zapatilla'\n",
    "adivinar_secreta = input('Inserta la palabra')\n",
    "for  i in range(intentos) :\n",
    "    \n",
    "    if palabra_secreta != adivinar_secreta:\n",
    "        print(\"Se pone en los pies\")\n",
    "        adivinar_secreta = input(\"inserta aquí la palabra\")\n",
    "        intentos -= 1\n",
    "        if intentos == 2 :\n",
    "            print(\"empieza por z\")\n",
    "            adivinar_secreta = input(\"inserta aquí la palabra\")\n",
    "            intentos -= 1\n",
    "        else:\n",
    "            print(\"Acertaste\")\n",
    "            break\n",
    "            \n",
    "    \n",
    "    else:\n",
    "        print(\"Acertaste\")\n",
    "        break\n",
    "\n"
   ]
  }
 ],
 "metadata": {
  "kernelspec": {
   "display_name": "base",
   "language": "python",
   "name": "python3"
  },
  "language_info": {
   "codemirror_mode": {
    "name": "ipython",
    "version": 3
   },
   "file_extension": ".py",
   "mimetype": "text/x-python",
   "name": "python",
   "nbconvert_exporter": "python",
   "pygments_lexer": "ipython3",
   "version": "3.12.7"
  }
 },
 "nbformat": 4,
 "nbformat_minor": 5
}
