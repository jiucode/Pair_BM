{
 "cells": [
  {
   "cell_type": "markdown",
   "id": "f461cd62",
   "metadata": {},
   "source": [
    "Verificar si un número es positivo, negativo o cero\n",
    "\n",
    "Descripción: Dado un número, verifica si es positivo, negativo o cero"
   ]
  },
  {
   "cell_type": "code",
   "execution_count": 54,
   "id": "7839305a",
   "metadata": {},
   "outputs": [
    {
     "name": "stdout",
     "output_type": "stream",
     "text": [
      "negativo\n"
     ]
    }
   ],
   "source": [
    "\n",
    "numero=-1\n",
    "\n",
    "if numero > 0:\n",
    "    print(\"Positivo\")\n",
    "elif numero == 0:\n",
    "    print (\"Es cero\")\n",
    "else:\n",
    "    print(\"negativo\")\n",
    "\n"
   ]
  },
  {
   "cell_type": "markdown",
   "id": "02157657",
   "metadata": {},
   "source": [
    "\n",
    "Verificar si un número es par o impar\n",
    "\n",
    "Descripción: Dado un número, verifica si es par o impar."
   ]
  },
  {
   "cell_type": "code",
   "execution_count": 55,
   "id": "4e501ae2",
   "metadata": {},
   "outputs": [
    {
     "name": "stdout",
     "output_type": "stream",
     "text": [
      "Es par\n"
     ]
    }
   ],
   "source": [
    "numero = 2\n",
    "\n",
    "if numero%2 == 0:\n",
    "    print(\"Es par\")\n",
    "\n",
    "else:\n",
    "    print(\"Es impar\")\n",
    " \n"
   ]
  },
  {
   "cell_type": "markdown",
   "id": "a40adc81",
   "metadata": {},
   "source": [
    "\n",
    "Verificar si un estudiante aprobó o suspendió un examen\n",
    "\n",
    "Descripción: Dada la calificación de un estudiante en un examen, verifica si aprobó o suspendió (si la calificación es mayor o igual a 60 se considera aprobado)."
   ]
  },
  {
   "cell_type": "code",
   "execution_count": 56,
   "id": "0465a0b6",
   "metadata": {},
   "outputs": [
    {
     "name": "stdout",
     "output_type": "stream",
     "text": [
      "Aprobado\n"
     ]
    }
   ],
   "source": [
    "\n",
    "\n",
    "nota=70\n",
    "\n",
    "if nota >= 60:\n",
    "    print(\"Aprobado\")\n",
    "\n",
    "else:\n",
    "    print(\"Suspenso\")\n",
    "\n",
    "\n",
    "\n"
   ]
  },
  {
   "cell_type": "markdown",
   "id": "5af1c815",
   "metadata": {},
   "source": [
    "\n",
    "Calcular el máximo entre dos números\n",
    "\n",
    "Descripción: Dados dos números, encuentra el máximo entre ellos."
   ]
  },
  {
   "cell_type": "code",
   "execution_count": 57,
   "id": "dccf05b4",
   "metadata": {},
   "outputs": [
    {
     "name": "stdout",
     "output_type": "stream",
     "text": [
      "Num 1 es el maximo\n"
     ]
    }
   ],
   "source": [
    "\n",
    "num1 = 4\n",
    "num2 = 3\n",
    "\n",
    "if num1 > num2:\n",
    "    print (\"Num 1 es el maximo\")\n",
    "else:\n",
    "    print (\"Num 2 es el máximo\")\n"
   ]
  },
  {
   "cell_type": "markdown",
   "id": "62c2ad85",
   "metadata": {},
   "source": [
    "\n",
    "Verificar si una letra es una vocal o una consonante\n",
    "\n",
    "Descripción: Dada una letra, verifica si es una vocal o una consonante."
   ]
  },
  {
   "cell_type": "code",
   "execution_count": 58,
   "id": "66000f70",
   "metadata": {},
   "outputs": [
    {
     "name": "stdout",
     "output_type": "stream",
     "text": [
      "es una consonante\n"
     ]
    }
   ],
   "source": [
    "\n",
    "letra=\"r\"\n",
    "\n",
    "vocal= \"a\", \"e\", \"i\", \"o\", \"u\"\n",
    "\n",
    "if letra in vocal:\n",
    "    print (\"es una vocal\")\n",
    "else:\n",
    "    print (\"es una consonante\")\n"
   ]
  },
  {
   "cell_type": "markdown",
   "id": "0ffa0e8a",
   "metadata": {},
   "source": [
    "\n",
    "Calcular el descuento en una compra según el monto total\n",
    "\n",
    "Descripción: Dado el monto total de una compra, calcula el descuento aplicado según las siguientes condiciones: si el monto es mayor o igual a $100, aplica un descuento del 10%; de lo contrario, no aplica ningún descuento."
   ]
  },
  {
   "cell_type": "code",
   "execution_count": 59,
   "id": "be45c5ed",
   "metadata": {},
   "outputs": [
    {
     "name": "stdout",
     "output_type": "stream",
     "text": [
      "235.4\n"
     ]
    }
   ],
   "source": [
    "\n",
    "totalcompra = 2354\n",
    "descuento = 0.1 * totalcompra\n",
    "\n",
    "if totalcompra >= 100:\n",
    "    print (descuento)\n",
    "\n",
    "else:\n",
    "    print (\"No hay descuento\")\n"
   ]
  },
  {
   "cell_type": "markdown",
   "id": "214592a1",
   "metadata": {},
   "source": [
    "\n",
    "Verificar si un año es bisiesto o no\n",
    "\n",
    "Descripción: Dado un año, verifica si es bisiesto o no (un año es bisiesto si es divisible entre 4, excepto aquellos divisibles entre 100 pero no entre 400)."
   ]
  },
  {
   "cell_type": "code",
   "execution_count": 80,
   "id": "26857318",
   "metadata": {},
   "outputs": [],
   "source": [
    "\n",
    "año = 404\n",
    "\n",
    "if año%4 == 0:\n",
    "    if año%100 == 0:\n",
    "        print (\"año bisiesto\")\n",
    "    \"\"\"elif año%400 < 0:\n",
    "        print (\"año no bisiesto\")\"\"\"\n",
    "else:\n",
    "    print (\"año no bisiesto\")\n",
    "\n"
   ]
  },
  {
   "cell_type": "markdown",
   "id": "5b1c0a01",
   "metadata": {},
   "source": [
    "\n",
    "Asignar una categoría a una edad\n",
    "\n",
    "Descripción: Dada una edad, asigna una categoría según las siguientes condiciones: si la edad es menor de 18, la categoría es \"Menor de edad\"; si la edad está entre 18 y 64 (incluyendo ambos), la categoría es \"Adulto\"; de lo contrario, la categoría es \"Adulto mayor\"."
   ]
  },
  {
   "cell_type": "code",
   "execution_count": 3,
   "id": "28b3c198",
   "metadata": {},
   "outputs": [
    {
     "name": "stdout",
     "output_type": "stream",
     "text": [
      "Eres menor de edad\n"
     ]
    }
   ],
   "source": [
    "\n",
    "edad = 7\n",
    "\n",
    "if 0<edad<18:\n",
    "    print(\"Eres menor de edad\")\n",
    "elif 18<=edad<=64:\n",
    "    print(\"Eres adulto\")\n",
    "else:\n",
    "    print(\"Eres mayor\")\n"
   ]
  },
  {
   "cell_type": "markdown",
   "id": "1caf69a8",
   "metadata": {},
   "source": [
    "\n",
    "Verificar si tres números forman un triángulo rectángulo\n",
    "\n",
    "Descripción: Dados tres números, verifica si forman un triángulo rectángulo (si se cumple el teorema de Pitágoras)."
   ]
  },
  {
   "cell_type": "code",
   "execution_count": 6,
   "id": "03987d7c",
   "metadata": {},
   "outputs": [
    {
     "name": "stdout",
     "output_type": "stream",
     "text": [
      "Es un triángulo rectángulo\n"
     ]
    }
   ],
   "source": [
    "\n",
    "lado1 = 3\n",
    "lado2 = 3\n",
    "lado3 = 3\n",
    "\n",
    "if lado1 == lado2 == lado3:\n",
    "    print (\"Es un triángulo rectángulo\")\n",
    "else:\n",
    "    print(\"Es otro tipo de triángulo\")"
   ]
  },
  {
   "cell_type": "markdown",
   "id": "e6973348",
   "metadata": {},
   "source": [
    "\n",
    "Asignar una calificación a una puntuación\n",
    "\n",
    "Descripción: Dada una puntuación, asigna una calificación según las siguientes condiciones: si la puntuación es mayor o igual a 90, la calificación es \"A\"; si es mayor o igual a 80, la calificación es \"B\"; si es mayor o igual a 70, la calificación es \"C\"; si es mayor o igual a 60, la calificación es \"D\"; de lo contrario, la calificación es \"F\"."
   ]
  },
  {
   "cell_type": "code",
   "execution_count": null,
   "id": "03414362",
   "metadata": {},
   "outputs": [
    {
     "name": "stdout",
     "output_type": "stream",
     "text": [
      "Tu calificación es D\n"
     ]
    }
   ],
   "source": [
    "\n",
    "puntuacion=70\n",
    "\n",
    "if puntuacion >= 90:\n",
    "    print(\"Tu calificación es A\")\n",
    "elif 80 < puntuacion > 89:\n",
    "    print(\"Tu calificación es B\")\n",
    "elif 70 < puntuacion > 79:\n",
    "    print(\"Tu calificación es C\")\n",
    "elif 60 < puntuacion > 69:\n",
    "    print(\"Tu calificación es D\")\n",
    "else:\n",
    "    print(\"Estudia por favor te lo pido\")\n",
    "\n",
    "##arreglar esto\n"
   ]
  }
 ],
 "metadata": {
  "kernelspec": {
   "display_name": "base",
   "language": "python",
   "name": "python3"
  },
  "language_info": {
   "codemirror_mode": {
    "name": "ipython",
    "version": 3
   },
   "file_extension": ".py",
   "mimetype": "text/x-python",
   "name": "python",
   "nbconvert_exporter": "python",
   "pygments_lexer": "ipython3",
   "version": "3.12.7"
  }
 },
 "nbformat": 4,
 "nbformat_minor": 5
}
