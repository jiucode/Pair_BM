{
 "cells": [
  {
   "cell_type": "markdown",
   "id": "051eea4f",
   "metadata": {},
   "source": [
    "\n",
    "Calcular el área de un círculo.\n",
    "\n",
    "Descripción: Crea una función llamada calcular_area_circulo que tome el radio como parámetro y devuelva el área del círculo.\n",
    "\n",
    "NOTA: Os dejamos aquí un link para recordar comose calculaba el área de un círculo."
   ]
  },
  {
   "cell_type": "code",
   "execution_count": null,
   "id": "dcc29170",
   "metadata": {},
   "outputs": [
    {
     "name": "stdout",
     "output_type": "stream",
     "text": [
      "12.566370614359172\n"
     ]
    }
   ],
   "source": [
    "\n",
    "import math\n",
    "r=2\n",
    "areacirc= math.pi*(r**2)\n",
    "print(areacirc)\n"
   ]
  },
  {
   "cell_type": "code",
   "execution_count": 10,
   "id": "3b45d849",
   "metadata": {},
   "outputs": [],
   "source": [
    "\n",
    "def calcular_area_circulo(r):\n",
    "    areacirc= math.pi*(r**2)\n",
    "    return areacirc\n"
   ]
  },
  {
   "cell_type": "code",
   "execution_count": 12,
   "id": "d3136122",
   "metadata": {},
   "outputs": [
    {
     "name": "stdout",
     "output_type": "stream",
     "text": [
      "12.566370614359172\n"
     ]
    }
   ],
   "source": [
    "print(calcular_area_circulo(2))"
   ]
  },
  {
   "cell_type": "markdown",
   "id": "8df11e7e",
   "metadata": {},
   "source": [
    "Contar la cantidad de caracteres en una cadena.\n",
    "\n",
    "Descripción: Crea una función llamada contar_caracteres que tome una cadena como parámetro y devuelva la cantidad de caracteres que contiene."
   ]
  },
  {
   "cell_type": "code",
   "execution_count": 18,
   "id": "8956d646",
   "metadata": {},
   "outputs": [],
   "source": [
    "frase = \"Cosorro que alguien nos aiude\"\n",
    "\n",
    "letras = {}\n",
    "\n",
    "letras[\"o\"]=frase.count(\"o\")\n"
   ]
  },
  {
   "cell_type": "code",
   "execution_count": 19,
   "id": "d5cd185b",
   "metadata": {},
   "outputs": [
    {
     "data": {
      "text/plain": [
       "{'o': 4}"
      ]
     },
     "execution_count": 19,
     "metadata": {},
     "output_type": "execute_result"
    }
   ],
   "source": [
    "letras"
   ]
  },
  {
   "cell_type": "code",
   "execution_count": 30,
   "id": "dc6fe41b",
   "metadata": {},
   "outputs": [
    {
     "data": {
      "text/plain": [
       "{'C': 1,\n",
       " 'o': 4,\n",
       " 's': 2,\n",
       " 'r': 2,\n",
       " ' ': 4,\n",
       " 'q': 1,\n",
       " 'u': 3,\n",
       " 'e': 3,\n",
       " 'a': 2,\n",
       " 'l': 1,\n",
       " 'g': 1,\n",
       " 'i': 2,\n",
       " 'n': 2,\n",
       " 'd': 1}"
      ]
     },
     "execution_count": 30,
     "metadata": {},
     "output_type": "execute_result"
    }
   ],
   "source": [
    "frase = \"Cosorro que alguien nos aiude\"\n",
    "\n",
    "def contar_caracteres(frase):\n",
    "    letras = {}\n",
    "    for letter in frase:\n",
    "         letras[letter]=frase.count(letter)\n",
    "    return letras\n",
    "contar_caracteres(frase)\n"
   ]
  },
  {
   "cell_type": "markdown",
   "id": "a073acb9",
   "metadata": {},
   "source": [
    "\n",
    "Determinar si una cadena es un palíndromo.\n",
    "\n",
    "Descripción: Crea una función llamada es_palindromo que tome una cadena como parámetro y devuelva True si es un palíndromo, o False si no lo es."
   ]
  },
  {
   "cell_type": "code",
   "execution_count": 55,
   "id": "0eeea62d",
   "metadata": {},
   "outputs": [],
   "source": [
    "\n",
    "palabra=\"oso\"\n",
    "palabra2=\"casa\"\n",
    "\n",
    "#palindromo = la cadena tiene que ser diferente de la misma cadena en reverse.\n",
    "\n",
    "def es_palindromo (palabra):\n",
    "    if palabra==palabra[::-1]:\n",
    "        print (\"Es palíndromo\")\n",
    "    else:\n",
    "        print (\"No es palíndromo\")\n",
    "\n",
    "    return palabra\n"
   ]
  },
  {
   "cell_type": "code",
   "execution_count": 56,
   "id": "ae2458bc",
   "metadata": {},
   "outputs": [
    {
     "name": "stdout",
     "output_type": "stream",
     "text": [
      "Es palíndromo\n"
     ]
    },
    {
     "data": {
      "text/plain": [
       "'oso'"
      ]
     },
     "execution_count": 56,
     "metadata": {},
     "output_type": "execute_result"
    }
   ],
   "source": [
    "es_palindromo(\"oso\")\n",
    "\n",
    "\n"
   ]
  },
  {
   "cell_type": "code",
   "execution_count": 34,
   "id": "7cab9888",
   "metadata": {},
   "outputs": [
    {
     "data": {
      "text/plain": [
       "'oso'"
      ]
     },
     "execution_count": 34,
     "metadata": {},
     "output_type": "execute_result"
    }
   ],
   "source": [
    "palabra2=\"oso\"\n",
    "palabra2[::-1]"
   ]
  },
  {
   "cell_type": "code",
   "execution_count": 35,
   "id": "72b39ebf",
   "metadata": {},
   "outputs": [
    {
     "data": {
      "text/plain": [
       "True"
      ]
     },
     "execution_count": 35,
     "metadata": {},
     "output_type": "execute_result"
    }
   ],
   "source": [
    "palabra2==palabra2[::-1]"
   ]
  },
  {
   "cell_type": "code",
   "execution_count": 37,
   "id": "4b48a984",
   "metadata": {},
   "outputs": [
    {
     "name": "stdout",
     "output_type": "stream",
     "text": [
      "0 A\n",
      "*********\n",
      "1 d\n",
      "*********\n",
      "2 a\n",
      "*********\n",
      "3 l\n",
      "*********\n",
      "4 a\n",
      "*********\n",
      "5 b\n",
      "*********\n"
     ]
    }
   ],
   "source": [
    "\n",
    "for indice, letra in enumerate(\"Adalab\"):\n",
    "    print (indice, letra)\n",
    "    print (\"*********\")\n",
    "\n"
   ]
  },
  {
   "cell_type": "markdown",
   "id": "0e5798a8",
   "metadata": {},
   "source": [
    "\n",
    "Calcular el promedio de una lista de números.\n",
    "\n",
    "Descripción: Crea una función llamada calcular_promedio que tome una lista de números como parámetro y devuelva el promedio de todos sus elementos."
   ]
  },
  {
   "cell_type": "code",
   "execution_count": 59,
   "id": "3bdf7cb8",
   "metadata": {},
   "outputs": [
    {
     "name": "stdout",
     "output_type": "stream",
     "text": [
      "2.5\n"
     ]
    }
   ],
   "source": [
    "lista = [1,2,3,4]\n",
    "promedio = sum(lista)/len(lista)\n",
    "\n",
    "print(promedio)\n"
   ]
  },
  {
   "cell_type": "code",
   "execution_count": 62,
   "id": "1591dec6",
   "metadata": {},
   "outputs": [
    {
     "name": "stdout",
     "output_type": "stream",
     "text": [
      "2.5\n"
     ]
    }
   ],
   "source": [
    "def calcular_promedio (lista):\n",
    "    promedio = sum(lista)/len(lista)\n",
    "    return promedio\n",
    "\n",
    "print (calcular_promedio(lista))\n",
    "\n",
    "\n",
    "    \n"
   ]
  }
 ],
 "metadata": {
  "kernelspec": {
   "display_name": "base",
   "language": "python",
   "name": "python3"
  },
  "language_info": {
   "codemirror_mode": {
    "name": "ipython",
    "version": 3
   },
   "file_extension": ".py",
   "mimetype": "text/x-python",
   "name": "python",
   "nbconvert_exporter": "python",
   "pygments_lexer": "ipython3",
   "version": "3.12.7"
  }
 },
 "nbformat": 4,
 "nbformat_minor": 5
}
