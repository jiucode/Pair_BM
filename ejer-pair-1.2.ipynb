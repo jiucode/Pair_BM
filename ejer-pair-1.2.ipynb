{
 "cells": [
  {
   "cell_type": "markdown",
   "id": "0d757eab",
   "metadata": {},
   "source": [
    "Ejercicios Pair listas y tuplas"
   ]
  },
  {
   "cell_type": "code",
   "execution_count": 2,
   "id": "389c707e",
   "metadata": {},
   "outputs": [
    {
     "name": "stdout",
     "output_type": "stream",
     "text": [
      "[2, 4, 6, 8, 2, 4, 6, 8]\n"
     ]
    }
   ],
   "source": [
    "# dada la siguiente lista el output esperado es:\n",
    "lista = [2, 4, 6, 8]\n",
    "print(lista + lista)"
   ]
  },
  {
   "cell_type": "code",
   "execution_count": 3,
   "id": "bf4ebac1",
   "metadata": {},
   "outputs": [
    {
     "name": "stdout",
     "output_type": "stream",
     "text": [
      "lista conjunta [1, 2, 3, 4, 5, 6]\n"
     ]
    }
   ],
   "source": [
    "lista1 = [1, 2, 3]\n",
    "lista2 = [4, 5, 6]\n",
    "print(\"lista conjunta\", (lista1 + lista2))"
   ]
  },
  {
   "cell_type": "code",
   "execution_count": 8,
   "id": "b33fbc1d",
   "metadata": {},
   "outputs": [
    {
     "data": {
      "text/plain": [
       "21"
      ]
     },
     "execution_count": 8,
     "metadata": {},
     "output_type": "execute_result"
    }
   ],
   "source": [
    "sum(lista1 + lista2)\n"
   ]
  },
  {
   "cell_type": "code",
   "execution_count": 9,
   "id": "b2875fbd",
   "metadata": {},
   "outputs": [
    {
     "name": "stdout",
     "output_type": "stream",
     "text": [
      "3\n"
     ]
    }
   ],
   "source": [
    "print(max(lista1))"
   ]
  },
  {
   "cell_type": "code",
   "execution_count": 10,
   "id": "f1ee870c",
   "metadata": {},
   "outputs": [
    {
     "name": "stdout",
     "output_type": "stream",
     "text": [
      "3\n"
     ]
    }
   ],
   "source": [
    "print(len(lista2))"
   ]
  },
  {
   "cell_type": "code",
   "execution_count": 13,
   "id": "bd19db1e",
   "metadata": {},
   "outputs": [
    {
     "name": "stdout",
     "output_type": "stream",
     "text": [
      "1\n"
     ]
    }
   ],
   "source": [
    "print(lista1[0])"
   ]
  },
  {
   "cell_type": "code",
   "execution_count": 15,
   "id": "94a49a35",
   "metadata": {},
   "outputs": [
    {
     "name": "stdout",
     "output_type": "stream",
     "text": [
      "¿el 4 cuantas veces? 2\n"
     ]
    }
   ],
   "source": [
    "lista_repe = [1, 2, 3, 4, 4, 5, 5]\n",
    "print(\"¿el 4 cuantas veces?\", lista_repe.count(4))"
   ]
  },
  {
   "cell_type": "code",
   "execution_count": 23,
   "id": "930fd508",
   "metadata": {},
   "outputs": [
    {
     "name": "stdout",
     "output_type": "stream",
     "text": [
      "[3, 4, 4]\n",
      "5\n",
      "4\n"
     ]
    }
   ],
   "source": [
    "lista_indice = lista_repe[2:5:]\n",
    "print(lista_indice)\n",
    "print(lista_repe[-1])\n",
    "print(lista_indice[-1])"
   ]
  },
  {
   "cell_type": "code",
   "execution_count": null,
   "id": "079f7256",
   "metadata": {},
   "outputs": [
    {
     "name": "stdout",
     "output_type": "stream",
     "text": [
      "[2, 3]\n"
     ]
    }
   ],
   "source": [
    "lista_indice = lista_repe[1:3:]\n",
    "print(lista_indice)\n"
   ]
  },
  {
   "cell_type": "code",
   "execution_count": 25,
   "id": "cd161694",
   "metadata": {},
   "outputs": [
    {
     "name": "stdout",
     "output_type": "stream",
     "text": [
      "[1, 3, 3, 4, 4, 5, 5]\n"
     ]
    }
   ],
   "source": [
    "lista_repe[1] = 3\n",
    "print(lista_repe)"
   ]
  },
  {
   "cell_type": "code",
   "execution_count": 30,
   "id": "e3a1d62a",
   "metadata": {},
   "outputs": [
    {
     "name": "stdout",
     "output_type": "stream",
     "text": [
      "[5, 5, 4, 4, 3, 2, 1]\n"
     ]
    }
   ],
   "source": [
    "lista_repe = [1, 2, 3, 4, 4, 5, 5]\n",
    "lista_repe.reverse()\n",
    "print(lista_repe)"
   ]
  },
  {
   "cell_type": "code",
   "execution_count": 33,
   "id": "daf1a56c",
   "metadata": {},
   "outputs": [
    {
     "name": "stdout",
     "output_type": "stream",
     "text": [
      "[5, 'A', 4, 4, 3, 2, 1]\n"
     ]
    }
   ],
   "source": [
    "lista_repe[1] = 'A'\n",
    "print(lista_repe)"
   ]
  },
  {
   "cell_type": "code",
   "execution_count": null,
   "id": "32b4c494",
   "metadata": {},
   "outputs": [
    {
     "name": "stdout",
     "output_type": "stream",
     "text": [
      "[4, 5, 6]\n"
     ]
    }
   ],
   "source": [
    "lista2.sort()\n",
    "print(lista2)"
   ]
  },
  {
   "cell_type": "code",
   "execution_count": 38,
   "id": "f83d371d",
   "metadata": {},
   "outputs": [
    {
     "name": "stdout",
     "output_type": "stream",
     "text": [
      "[5, 4, 3, 1]\n",
      "[5, 4, 1]\n"
     ]
    }
   ],
   "source": [
    "print(lista_repe[::2])\n",
    "print(lista_repe[::3])\n"
   ]
  },
  {
   "cell_type": "code",
   "execution_count": 48,
   "id": "d3d5cfef",
   "metadata": {},
   "outputs": [
    {
     "name": "stdout",
     "output_type": "stream",
     "text": [
      "5\n",
      "4\n"
     ]
    }
   ],
   "source": [
    "lista_repe = [1, 2, 3, 4, 4, 5, 5]\n",
    "print(max(lista_repe))\n",
    "lista_repe.remove(5)\n",
    "lista_repe.remove(5)\n",
    "print(max(lista_repe))\n",
    "\n"
   ]
  },
  {
   "cell_type": "code",
   "execution_count": 50,
   "id": "bdcfda75",
   "metadata": {},
   "outputs": [
    {
     "data": {
      "text/plain": [
       "4"
      ]
     },
     "execution_count": 50,
     "metadata": {},
     "output_type": "execute_result"
    }
   ],
   "source": [
    "lista_repe = [1, 2, 3, 4, 5]\n",
    "lista_repe[-2]\n"
   ]
  },
  {
   "cell_type": "code",
   "execution_count": 52,
   "id": "d93bcd43",
   "metadata": {},
   "outputs": [
    {
     "name": "stdout",
     "output_type": "stream",
     "text": [
      "[1, 2, 3, 4, 4, 5, 5]\n"
     ]
    },
    {
     "ename": "AttributeError",
     "evalue": "'list' object has no attribute 'sorted'",
     "output_type": "error",
     "traceback": [
      "\u001b[1;31m---------------------------------------------------------------------------\u001b[0m",
      "\u001b[1;31mAttributeError\u001b[0m                            Traceback (most recent call last)",
      "Cell \u001b[1;32mIn[52], line 5\u001b[0m\n\u001b[0;32m      2\u001b[0m lista_repe\u001b[38;5;241m.\u001b[39msort()\n\u001b[0;32m      3\u001b[0m \u001b[38;5;28mprint\u001b[39m(lista_repe)\n\u001b[1;32m----> 5\u001b[0m lista_repe\u001b[38;5;241m.\u001b[39msorted()\n",
      "\u001b[1;31mAttributeError\u001b[0m: 'list' object has no attribute 'sorted'"
     ]
    }
   ],
   "source": [
    "lista_repe = [1, 2, 3, 4, 4, 5, 5]\n",
    "lista_repe.sort()\n",
    "print(lista_repe)\n",
    "\n",
    "lista_repe.sorted()"
   ]
  },
  {
   "cell_type": "markdown",
   "id": "f2db3364",
   "metadata": {},
   "source": [
    "El método sort() se puede aplicar en listas, sin embargo el sorted(), nos dice: 'list' object has no attribute 'sorted'"
   ]
  },
  {
   "cell_type": "code",
   "execution_count": 54,
   "id": "90c9f80a",
   "metadata": {},
   "outputs": [],
   "source": [
    "animales = ['gato', 'perro', 'pez', 'tortuga', 'periquito', 'alga']"
   ]
  }
 ],
 "metadata": {
  "kernelspec": {
   "display_name": "base",
   "language": "python",
   "name": "python3"
  },
  "language_info": {
   "codemirror_mode": {
    "name": "ipython",
    "version": 3
   },
   "file_extension": ".py",
   "mimetype": "text/x-python",
   "name": "python",
   "nbconvert_exporter": "python",
   "pygments_lexer": "ipython3",
   "version": "3.12.7"
  }
 },
 "nbformat": 4,
 "nbformat_minor": 5
}
