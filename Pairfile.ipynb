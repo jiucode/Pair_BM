{
 "cells": [
  {
   "cell_type": "markdown",
   "id": "bc8a9ced",
   "metadata": {},
   "source": [
    "Documento para pair programming"
   ]
  }
 ],
 "metadata": {
  "language_info": {
   "name": "python"
  }
 },
 "nbformat": 4,
 "nbformat_minor": 5
}
