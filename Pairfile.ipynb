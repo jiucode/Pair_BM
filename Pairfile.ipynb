{
 "cells": [
  {
   "cell_type": "markdown",
   "id": "bc8a9ced",
   "metadata": {},
   "source": [
    "Documento para pair programming"
   ]
  },
  {
   "cell_type": "code",
   "execution_count": 2,
   "id": "9bb30338",
   "metadata": {},
   "outputs": [
    {
     "name": "stdout",
     "output_type": "stream",
     "text": [
      "hola me está costando\n"
     ]
    }
   ],
   "source": [
    "print('hola me está costando')"
   ]
  }
 ],
 "metadata": {
  "kernelspec": {
   "display_name": "base",
   "language": "python",
   "name": "python3"
  },
  "language_info": {
   "codemirror_mode": {
    "name": "ipython",
    "version": 3
   },
   "file_extension": ".py",
   "mimetype": "text/x-python",
   "name": "python",
   "nbconvert_exporter": "python",
   "pygments_lexer": "ipython3",
   "version": "3.12.7"
  }
 },
 "nbformat": 4,
 "nbformat_minor": 5
}
